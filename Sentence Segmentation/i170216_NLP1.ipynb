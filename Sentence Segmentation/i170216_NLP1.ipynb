{
  "nbformat": 4,
  "nbformat_minor": 0,
  "metadata": {
    "colab": {
      "name": "i170216_NLP1",
      "provenance": [],
      "collapsed_sections": []
    },
    "kernelspec": {
      "name": "python3",
      "display_name": "Python 3"
    }
  },
  "cells": [
    {
      "cell_type": "code",
      "metadata": {
        "colab": {
          "base_uri": "https://localhost:8080/"
        },
        "id": "bsVWKjNwdRLo",
        "outputId": "9a450f56-7c6d-4d40-98e1-de7fea3a7ef8"
      },
      "source": [
        "text = \"عقل خان کے مطابق اس خوبصورت چراگاہ کو کنڈیل شئی بانال کہا جاتا ہے۔ کنڈیل شئی بانال کے اس خوبصورت میدان کو اگر سویٹزرلینڈ کے کسی ہرے بھرے میدانی علاقے سے تشبیہہ دی جائے تو کچھ غلط نہیں ہوگا۔ میدان میں داخل ہوتے ہی کچھ دیر آرام کرنے کی میری خواہش پر سب نے لبیک کہا۔ ایسا لگا جیسے ان کی دل کی بات میرے لبوں سے ادا ہوئی ہو۔\"\n",
        "print(text.split())"
      ],
      "execution_count": null,
      "outputs": [
        {
          "output_type": "stream",
          "text": [
            "['عقل', 'خان', 'کے', 'مطابق', 'اس', 'خوبصورت', 'چراگاہ', 'کو', 'کنڈیل', 'شئی', 'بانال', 'کہا', 'جاتا', 'ہے۔', 'کنڈیل', 'شئی', 'بانال', 'کے', 'اس', 'خوبصورت', 'میدان', 'کو', 'اگر', 'سویٹزرلینڈ', 'کے', 'کسی', 'ہرے', 'بھرے', 'میدانی', 'علاقے', 'سے', 'تشبیہہ', 'دی', 'جائے', 'تو', 'کچھ', 'غلط', 'نہیں', 'ہوگا۔', 'میدان', 'میں', 'داخل', 'ہوتے', 'ہی', 'کچھ', 'دیر', 'آرام', 'کرنے', 'کی', 'میری', 'خواہش', 'پر', 'سب', 'نے', 'لبیک', 'کہا۔', 'ایسا', 'لگا', 'جیسے', 'ان', 'کی', 'دل', 'کی', 'بات', 'میرے', 'لبوں', 'سے', 'ادا', 'ہوئی', 'ہو۔']\n"
          ],
          "name": "stdout"
        }
      ]
    },
    {
      "cell_type": "code",
      "metadata": {
        "colab": {
          "base_uri": "https://localhost:8080/"
        },
        "id": "9DmZ9NmHeGjj",
        "outputId": "9b5c983c-2f6d-4d58-9962-b8727409c3be"
      },
      "source": [
        "text = \"کرپٹ کون؟\" \n",
        "print(text.split())"
      ],
      "execution_count": null,
      "outputs": [
        {
          "output_type": "stream",
          "text": [
            "['کرپٹ', 'کون؟']\n"
          ],
          "name": "stdout"
        }
      ]
    },
    {
      "cell_type": "code",
      "metadata": {
        "colab": {
          "base_uri": "https://localhost:8080/"
        },
        "id": "zLPTqk__eTWI",
        "outputId": "5dd7dbb5-096c-4dfc-bf64-1f4c911a97b1"
      },
      "source": [
        "endwords = ['۔','!','؟' ]\n",
        "rawWords = [\"‘‘\"]  \n",
        "newLineWords = ['کیجیے', 'کیجئے', 'گئیں', 'تھیں', 'ہوں', 'خریدا', 'گے', 'ہونگے', 'گا', 'چاہیے', 'ہوئیں', 'گی',\n",
        "                      'تھا', 'تھی', 'تھے', 'ہیں', 'ہے',\n",
        "                       ]\n",
        "print(rawWords[0])"
      ],
      "execution_count": null,
      "outputs": [
        {
          "output_type": "stream",
          "text": [
            "‘‘\n"
          ],
          "name": "stdout"
        }
      ]
    },
    {
      "cell_type": "markdown",
      "metadata": {
        "id": "vttqjWZXh-zM"
      },
      "source": [
        "**Reading from the file** "
      ]
    },
    {
      "cell_type": "code",
      "metadata": {
        "colab": {
          "base_uri": "https://localhost:8080/"
        },
        "id": "AL2jUoBqgsPu",
        "outputId": "0d715ef3-fefa-4ade-a576-383f755c4d86"
      },
      "source": [
        "import csv\n",
        "with open('/content/sent-test.txt', 'rt', encoding=\"utf-8\") as f:\n",
        "    reader = csv.reader(f)\n",
        "    segmented = list(reader)\n",
        "f.close() \n",
        "print(segmented)"
      ],
      "execution_count": null,
      "outputs": [
        {
          "output_type": "stream",
          "text": [
            "[['عقل خان کے مطابق اس خوبصورت چراگاہ کو کنڈیل شئی بانال کہا جاتا ہے کنڈیل شئی بانال کے اس خوبصورت میدان کو اگر سویٹزرلینڈ کے کسی ہرے بھرے میدانی علاقے سے تشبیہہ دی جائے تو کچھ غلط نہیں ہوگا میدان میں داخل ہوتے ہی کچھ دیر آرام کرنے کی میری خواہش پر سب نے لبیک کہا ایسا لگا جیسے ان کی دل کی بات میرے لبوں سے ادا ہوئی ہو۔'], []]\n"
          ],
          "name": "stdout"
        }
      ]
    },
    {
      "cell_type": "markdown",
      "metadata": {
        "id": "QOP4QJHGiT2-"
      },
      "source": [
        "**Putting end delimeter using New Line Words**"
      ]
    },
    {
      "cell_type": "code",
      "metadata": {
        "id": "dilH003RnK1l"
      },
      "source": [
        "endwords = ['۔','!','؟' ]\n",
        "word = \"خریدا\"\n",
        "newLineWords = ['کیجیے', 'کیجئے', 'گئیں', 'تھیں', 'ہوں', 'خریدا', 'گے', 'ہونگے', 'گا', 'چاہیے', 'ہوئیں', 'گی',\n",
        "                       'تھا', 'تھی', 'تھے', 'ہے',\n",
        "                       ]\n",
        "\n",
        "def findSentenceBoundary(word): \n",
        "  if word[-1] not in endwords:   \n",
        "    for i in range(len(newLineWords)): \n",
        "      match = True\n",
        "      if len(word)>= len(newLineWords[i]):  \n",
        "                \n",
        "        idx = -1\n",
        "        for j in range(0, len(newLineWords[i])): \n",
        "          if word[idx] != newLineWords[i][idx]: \n",
        "            match = False  \n",
        "            break \n",
        "          idx += -1 \n",
        "        if match == True:  \n",
        "          print(word, newLineWords[i])\n",
        "          return True \n",
        "    return False\n",
        "          \n",
        "  elif word[-1] in endwords:  \n",
        "    for i in range(len(newLineWords)): \n",
        "      if(len(word)>= len(newLineWords[i])): \n",
        "        match = True  \n",
        "        idx = -1\n",
        "        for j in range(0, len(newLineWords[i])): \n",
        "          if(word[idx-1] != newLineWords[i][idx]): \n",
        "            match = False  \n",
        "            break\n",
        "          idx += -1 \n",
        "        if match == True: \n",
        "          return True\n",
        "    return False  \n",
        "  return False\n",
        "\n",
        "\n"
      ],
      "execution_count": null,
      "outputs": []
    },
    {
      "cell_type": "markdown",
      "metadata": {
        "id": "hjeeL5-FioXy"
      },
      "source": [
        "**Splitting a Sentence on a given word index**"
      ]
    },
    {
      "cell_type": "code",
      "metadata": {
        "id": "QIpW_M0sPlvi"
      },
      "source": [
        "def splitSentence(words, idx): \n",
        "  sent1 = [] \n",
        "  sent2 = [] \n",
        "  for i in range(0, idx+1): \n",
        "    sent1.append(words[i]) \n",
        "     \n",
        "  for i in range(idx+1, len(words)): \n",
        "    sent2.append(words[i]) \n",
        "\n",
        "  separator = ' '\n",
        "  sent1 = separator.join(sent1)\n",
        "  separator = ' '\n",
        "  sent2 = separator.join(sent2) \n",
        "  sent1+='۔'\n",
        "\n",
        "  return sent1, sent2\n",
        "\n",
        "#sentence = \"کسی ہرے بھرے پر سب نے لبیک کہا ایسا لگا جیسے \"\n",
        "#words = sentence.split() \n",
        "#splitSentence(words,3) \n"
      ],
      "execution_count": null,
      "outputs": []
    },
    {
      "cell_type": "markdown",
      "metadata": {
        "id": "IRNShWQaiy3a"
      },
      "source": [
        "**driver code**\n",
        "\n",
        "\n",
        "1.   First Check for ending delimiter i.e '۔','!','؟'\n",
        "2.   Then break a sentence if they is a new line word\n",
        "\n"
      ]
    },
    {
      "cell_type": "code",
      "metadata": {
        "colab": {
          "base_uri": "https://localhost:8080/"
        },
        "id": "n0oIgfm-g6VJ",
        "outputId": "f6306253-84cf-4f23-b32e-9e15d3a3e712"
      },
      "source": [
        "seg_text = segmented[0][0]\n",
        "sents = seg_text.split()\n",
        "sentence = [] #forming a single sentence\n",
        "sentence_corpus = [] #to store all sentences\n",
        "idx = 0 \n",
        "\n",
        "for w in sents: \n",
        "  sentence.append(w)  \n",
        "  \n",
        "  if(w[len(w)-1] == '۔' or w[len(w)-1] == '؟' or w[len(w)-1] == '!' ): \n",
        "    separator = ' '\n",
        "    sentence = separator.join(sentence)\n",
        "    sentence_corpus.append(sentence)\n",
        "    sentence = []\n",
        "  elif(w == '۔' or w == '؟' or w == '!'):  \n",
        "    separator = ' '\n",
        "    sentence = separator.join(sentence)\n",
        "    sentence_corpus.append(sentence)\n",
        "    sentence = [] \n",
        "  elif(len(sents)-1 == idx): \n",
        "    separator = ' '\n",
        "    sentence = separator.join(sentence) \n",
        "    sentence+= '۔'\n",
        "    sentence_corpus.append(sentence)\n",
        "    sentence = []\n",
        "  idx +=1 \n",
        "\n",
        "\n",
        "#print(sentence_corpus)  \n",
        "\n",
        "j = 0 \n",
        "for sentence in sentence_corpus:  \n",
        "  words = sentence.split()   \n",
        "  idx = 0 \n",
        "  for w in words: \n",
        "    if findSentenceBoundary(w)== True:  \n",
        "      #print(w) \n",
        "      sent1 = [] \n",
        "      sent2 = []\n",
        "      sent1, sent2 = splitSentence(words,idx) \n",
        "      sentence_corpus.pop(j)  \n",
        "      sentence_corpus.insert(j, sent2)\n",
        "      sentence_corpus.insert(j, sent1) \n",
        "      break\n",
        "    idx +=1 \n",
        "  j+=1 \n",
        "\n",
        "print(sentence_corpus) "
      ],
      "execution_count": null,
      "outputs": [
        {
          "output_type": "stream",
          "text": [
            "ہے ہے\n",
            "ہوگا گا\n",
            "لگا گا\n",
            "['عقل خان کے مطابق اس خوبصورت چراگاہ کو کنڈیل شئی بانال کہا جاتا ہے۔', 'کنڈیل شئی بانال کے اس خوبصورت میدان کو اگر سویٹزرلینڈ کے کسی ہرے بھرے میدانی علاقے سے تشبیہہ دی جائے تو کچھ غلط نہیں ہوگا۔', 'میدان میں داخل ہوتے ہی کچھ دیر آرام کرنے کی میری خواہش پر سب نے لبیک کہا ایسا لگا۔', 'جیسے ان کی دل کی بات میرے لبوں سے ادا ہوئی ہو۔']\n"
          ],
          "name": "stdout"
        }
      ]
    },
    {
      "cell_type": "markdown",
      "metadata": {
        "id": "PGT8gCzH40Cr"
      },
      "source": [
        "**Evaluation function**"
      ]
    },
    {
      "cell_type": "code",
      "metadata": {
        "id": "F5zeg5U0PnmE",
        "colab": {
          "base_uri": "https://localhost:8080/"
        },
        "outputId": "d3513357-ce06-4389-e25c-bafa02f5e782"
      },
      "source": [
        "import csv\n",
        "with open('/content/sent-segmented.txt', 'rt', encoding=\"utf-8\") as f:\n",
        "    reader = csv.reader(f)\n",
        "    segmented = list(reader)\n",
        "f.close() \n",
        "print(segmented)\n",
        "seg_text = segmented[0][0] \n",
        "\n",
        "def evaluate(sentence_sorpus,fileSegment):\n",
        "  countD = 0 \n",
        "  countE = 0 \n",
        "  countQ = 0 \n",
        "\n",
        "  for sentence in sentence_corpus: \n",
        "    countD += sentence.count('۔')\n",
        "    countE += sentence.count('!')\n",
        "    countQ += sentence.count('؟') \n",
        "\n",
        "  nD = 0 \n",
        "  nE = 0\n",
        "  nQ = 0 \n",
        "  nD += fileSegment.count('۔')\n",
        "  nE += fileSegment.count('!')\n",
        "  nQ += fileSegment.count('؟') \n",
        "\n",
        "  print(\"Before Segmentation\\ncount of -\",nD, \"\\ncount of ?\", nQ, \"\\ncount of -\",nE )\n",
        "  print(\"After Segmentation\\ncount of -\",countD, \"\\ncount of ?\", countQ, \"\\ncount of -\",countE )\n",
        "\n",
        "  separator = ' '\n",
        "  result = separator.join(sentence_corpus) \n",
        "  print(result)\n",
        "  print(fileSegment)\n",
        "evaluate(sentence_corpus,seg_text)"
      ],
      "execution_count": null,
      "outputs": [
        {
          "output_type": "stream",
          "text": [
            "[['عقل خان کے مطابق اس خوبصورت چراگاہ کو کنڈیل شئی بانال کہا جاتا ہے۔ کنڈیل شئی بانال کے اس خوبصورت میدان کو اگر سویٹزرلینڈ کے کسی ہرے بھرے میدانی علاقے سے تشبیہہ دی جائے تو کچھ غلط نہیں ہوگا۔ میدان میں داخل ہوتے ہی کچھ دیر آرام کرنے کی میری خواہش پر سب نے لبیک کہا۔ ایسا لگا جیسے ان کی دل کی بات میرے لبوں سے ادا ہوئی ہو۔']]\n",
            "Before Segmentation\n",
            "count of - 4 \n",
            "count of ? 0 \n",
            "count of - 0\n",
            "After Segmentation\n",
            "count of - 4 \n",
            "count of ? 0 \n",
            "count of - 0\n",
            "عقل خان کے مطابق اس خوبصورت چراگاہ کو کنڈیل شئی بانال کہا جاتا ہے۔ کنڈیل شئی بانال کے اس خوبصورت میدان کو اگر سویٹزرلینڈ کے کسی ہرے بھرے میدانی علاقے سے تشبیہہ دی جائے تو کچھ غلط نہیں ہوگا۔ میدان میں داخل ہوتے ہی کچھ دیر آرام کرنے کی میری خواہش پر سب نے لبیک کہا ایسا لگا۔ جیسے ان کی دل کی بات میرے لبوں سے ادا ہوئی ہو۔\n",
            "عقل خان کے مطابق اس خوبصورت چراگاہ کو کنڈیل شئی بانال کہا جاتا ہے۔ کنڈیل شئی بانال کے اس خوبصورت میدان کو اگر سویٹزرلینڈ کے کسی ہرے بھرے میدانی علاقے سے تشبیہہ دی جائے تو کچھ غلط نہیں ہوگا۔ میدان میں داخل ہوتے ہی کچھ دیر آرام کرنے کی میری خواہش پر سب نے لبیک کہا۔ ایسا لگا جیسے ان کی دل کی بات میرے لبوں سے ادا ہوئی ہو۔\n"
          ],
          "name": "stdout"
        }
      ]
    },
    {
      "cell_type": "code",
      "metadata": {
        "colab": {
          "base_uri": "https://localhost:8080/"
        },
        "id": "236sZno70eXN",
        "outputId": "f3a2a9ed-cf8a-4823-c73b-4cbab5d90e69"
      },
      "source": [
        "print(\"Before Segmentation\\ncount of -\",4, \"\\ncount of ?\", 4, \"\\ncount of -\",3  )"
      ],
      "execution_count": null,
      "outputs": [
        {
          "output_type": "stream",
          "text": [
            "Before Segmentation\n",
            "count of - 4 \n",
            "count of ? 4 \n",
            "count of - 3\n"
          ],
          "name": "stdout"
        }
      ]
    },
    {
      "cell_type": "code",
      "metadata": {
        "id": "LdNoRCRa0eoQ"
      },
      "source": [
        ""
      ],
      "execution_count": null,
      "outputs": []
    }
  ]
}